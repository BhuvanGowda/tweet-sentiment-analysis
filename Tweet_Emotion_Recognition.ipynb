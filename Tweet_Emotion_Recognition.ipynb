{
  "cells": [
    {
      "cell_type": "markdown",
      "metadata": {
        "id": "sp7D0ktn5eiG"
      },
      "source": [
        "## Tweet Emotion Recognition: Natural Language Processing with TensorFlow\n",
        "\n",
        "---\n",
        "\n",
        "Dataset: [Tweet Emotion Dataset](https://github.com/dair-ai/emotion_dataset)\n",
        "\n",
        "This is a starter notebook for the guided project [Tweet Emotion Recognition with TensorFlow](https://www.coursera.org/projects/tweet-emotion-tensorflow)\n",
        "\n",
        "A complete version of this notebook is available in the course resources\n",
        "\n",
        "---\n",
        "\n",
        "## Task 1: Introduction"
      ]
    },
    {
      "cell_type": "markdown",
      "metadata": {
        "id": "cprXxkrMxIgT"
      },
      "source": [
        "## Task 2: Setup and Imports\n",
        "\n",
        "1. Installing Hugging Face's nlp package\n",
        "2. Importing libraries"
      ]
    },
    {
      "cell_type": "code",
      "execution_count": 38,
      "metadata": {
        "colab": {
          "base_uri": "https://localhost:8080/"
        },
        "id": "5agZRy-45i0g",
        "outputId": "8975c625-496e-4248-c25c-682ae389b922"
      },
      "outputs": [
        {
          "output_type": "stream",
          "name": "stdout",
          "text": [
            "Requirement already satisfied: nlp in /usr/local/lib/python3.10/dist-packages (0.4.0)\n",
            "Requirement already satisfied: numpy in /usr/local/lib/python3.10/dist-packages (from nlp) (1.23.5)\n",
            "Requirement already satisfied: pyarrow>=0.16.0 in /usr/local/lib/python3.10/dist-packages (from nlp) (9.0.0)\n",
            "Requirement already satisfied: dill in /usr/local/lib/python3.10/dist-packages (from nlp) (0.3.7)\n",
            "Requirement already satisfied: pandas in /usr/local/lib/python3.10/dist-packages (from nlp) (1.5.3)\n",
            "Requirement already satisfied: requests>=2.19.0 in /usr/local/lib/python3.10/dist-packages (from nlp) (2.31.0)\n",
            "Requirement already satisfied: tqdm>=4.27 in /usr/local/lib/python3.10/dist-packages (from nlp) (4.66.1)\n",
            "Requirement already satisfied: filelock in /usr/local/lib/python3.10/dist-packages (from nlp) (3.12.2)\n",
            "Requirement already satisfied: xxhash in /usr/local/lib/python3.10/dist-packages (from nlp) (3.3.0)\n",
            "Requirement already satisfied: charset-normalizer<4,>=2 in /usr/local/lib/python3.10/dist-packages (from requests>=2.19.0->nlp) (3.2.0)\n",
            "Requirement already satisfied: idna<4,>=2.5 in /usr/local/lib/python3.10/dist-packages (from requests>=2.19.0->nlp) (3.4)\n",
            "Requirement already satisfied: urllib3<3,>=1.21.1 in /usr/local/lib/python3.10/dist-packages (from requests>=2.19.0->nlp) (2.0.4)\n",
            "Requirement already satisfied: certifi>=2017.4.17 in /usr/local/lib/python3.10/dist-packages (from requests>=2.19.0->nlp) (2023.7.22)\n",
            "Requirement already satisfied: python-dateutil>=2.8.1 in /usr/local/lib/python3.10/dist-packages (from pandas->nlp) (2.8.2)\n",
            "Requirement already satisfied: pytz>=2020.1 in /usr/local/lib/python3.10/dist-packages (from pandas->nlp) (2023.3.post1)\n",
            "Requirement already satisfied: six>=1.5 in /usr/local/lib/python3.10/dist-packages (from python-dateutil>=2.8.1->pandas->nlp) (1.16.0)\n"
          ]
        }
      ],
      "source": [
        "!pip install nlp"
      ]
    },
    {
      "cell_type": "code",
      "execution_count": 39,
      "metadata": {
        "colab": {
          "base_uri": "https://localhost:8080/"
        },
        "id": "yKFjWz6e5eiH",
        "outputId": "3e100949-4bd7-4ccb-e541-ce757f404092"
      },
      "outputs": [
        {
          "output_type": "stream",
          "name": "stdout",
          "text": [
            "Using TensorFlow version 2.13.0\n"
          ]
        }
      ],
      "source": [
        "%matplotlib inline\n",
        "\n",
        "import tensorflow as tf\n",
        "import numpy as np\n",
        "import matplotlib.pyplot as plt\n",
        "import nlp\n",
        "import random\n",
        "\n",
        "\n",
        "def show_history(h):\n",
        "    epochs_trained = len(h.history['loss'])\n",
        "    plt.figure(figsize=(15, 5))\n",
        "\n",
        "    plt.subplot(1, 2, 1)\n",
        "    plt.plot(range(0, epochs_trained), h.history.get('accuracy'), label='Training')\n",
        "    plt.plot(range(0, epochs_trained), h.history.get('val_accuracy'), label='Validation')\n",
        "    plt.ylim([0., 1.])\n",
        "    plt.xlabel('Epochs')\n",
        "    plt.ylabel('Accuracy')\n",
        "    plt.legend()\n",
        "\n",
        "    plt.subplot(1, 2, 2)\n",
        "    plt.plot(range(0, epochs_trained), h.history.get('loss'), label='Training')\n",
        "    plt.plot(range(0, epochs_trained), h.history.get('val_loss'), label='Validation')\n",
        "    plt.xlabel('Epochs')\n",
        "    plt.ylabel('Loss')\n",
        "    plt.legend()\n",
        "    plt.show()\n",
        "\n",
        "\n",
        "def show_confusion_matrix(y_true, y_pred, classes):\n",
        "    from sklearn.metrics import confusion_matrix\n",
        "\n",
        "    cm = confusion_matrix(y_true, y_pred, normalize='true')\n",
        "\n",
        "    plt.figure(figsize=(8, 8))\n",
        "    sp = plt.subplot(1, 1, 1)\n",
        "    ctx = sp.matshow(cm)\n",
        "    plt.xticks(list(range(0, 6)), labels=classes)\n",
        "    plt.yticks(list(range(0, 6)), labels=classes)\n",
        "    plt.colorbar(ctx)\n",
        "    plt.show()\n",
        "\n",
        "\n",
        "print('Using TensorFlow version', tf.__version__)"
      ]
    },
    {
      "cell_type": "markdown",
      "metadata": {
        "id": "7JsBpezExIga"
      },
      "source": [
        "## Task 3: Importing Data\n",
        "\n",
        "1. Importing the Tweet Emotion dataset\n",
        "2. Creating train, validation and test sets\n",
        "3. Extracting tweets and labels from the examples"
      ]
    },
    {
      "cell_type": "code",
      "execution_count": 40,
      "metadata": {
        "colab": {
          "base_uri": "https://localhost:8080/"
        },
        "id": "5eNxKDolmNA7",
        "outputId": "a7e950c5-76d9-4292-ee8f-aa4ee29af80c"
      },
      "outputs": [
        {
          "output_type": "stream",
          "name": "stdout",
          "text": [
            "Requirement already satisfied: datasets in /usr/local/lib/python3.10/dist-packages (2.14.5)\n",
            "Requirement already satisfied: numpy>=1.17 in /usr/local/lib/python3.10/dist-packages (from datasets) (1.23.5)\n",
            "Requirement already satisfied: pyarrow>=8.0.0 in /usr/local/lib/python3.10/dist-packages (from datasets) (9.0.0)\n",
            "Requirement already satisfied: dill<0.3.8,>=0.3.0 in /usr/local/lib/python3.10/dist-packages (from datasets) (0.3.7)\n",
            "Requirement already satisfied: pandas in /usr/local/lib/python3.10/dist-packages (from datasets) (1.5.3)\n",
            "Requirement already satisfied: requests>=2.19.0 in /usr/local/lib/python3.10/dist-packages (from datasets) (2.31.0)\n",
            "Requirement already satisfied: tqdm>=4.62.1 in /usr/local/lib/python3.10/dist-packages (from datasets) (4.66.1)\n",
            "Requirement already satisfied: xxhash in /usr/local/lib/python3.10/dist-packages (from datasets) (3.3.0)\n",
            "Requirement already satisfied: multiprocess in /usr/local/lib/python3.10/dist-packages (from datasets) (0.70.15)\n",
            "Requirement already satisfied: fsspec[http]<2023.9.0,>=2023.1.0 in /usr/local/lib/python3.10/dist-packages (from datasets) (2023.6.0)\n",
            "Requirement already satisfied: aiohttp in /usr/local/lib/python3.10/dist-packages (from datasets) (3.8.5)\n",
            "Requirement already satisfied: huggingface-hub<1.0.0,>=0.14.0 in /usr/local/lib/python3.10/dist-packages (from datasets) (0.17.2)\n",
            "Requirement already satisfied: packaging in /usr/local/lib/python3.10/dist-packages (from datasets) (23.1)\n",
            "Requirement already satisfied: pyyaml>=5.1 in /usr/local/lib/python3.10/dist-packages (from datasets) (6.0.1)\n",
            "Requirement already satisfied: attrs>=17.3.0 in /usr/local/lib/python3.10/dist-packages (from aiohttp->datasets) (23.1.0)\n",
            "Requirement already satisfied: charset-normalizer<4.0,>=2.0 in /usr/local/lib/python3.10/dist-packages (from aiohttp->datasets) (3.2.0)\n",
            "Requirement already satisfied: multidict<7.0,>=4.5 in /usr/local/lib/python3.10/dist-packages (from aiohttp->datasets) (6.0.4)\n",
            "Requirement already satisfied: async-timeout<5.0,>=4.0.0a3 in /usr/local/lib/python3.10/dist-packages (from aiohttp->datasets) (4.0.3)\n",
            "Requirement already satisfied: yarl<2.0,>=1.0 in /usr/local/lib/python3.10/dist-packages (from aiohttp->datasets) (1.9.2)\n",
            "Requirement already satisfied: frozenlist>=1.1.1 in /usr/local/lib/python3.10/dist-packages (from aiohttp->datasets) (1.4.0)\n",
            "Requirement already satisfied: aiosignal>=1.1.2 in /usr/local/lib/python3.10/dist-packages (from aiohttp->datasets) (1.3.1)\n",
            "Requirement already satisfied: filelock in /usr/local/lib/python3.10/dist-packages (from huggingface-hub<1.0.0,>=0.14.0->datasets) (3.12.2)\n",
            "Requirement already satisfied: typing-extensions>=3.7.4.3 in /usr/local/lib/python3.10/dist-packages (from huggingface-hub<1.0.0,>=0.14.0->datasets) (4.5.0)\n",
            "Requirement already satisfied: idna<4,>=2.5 in /usr/local/lib/python3.10/dist-packages (from requests>=2.19.0->datasets) (3.4)\n",
            "Requirement already satisfied: urllib3<3,>=1.21.1 in /usr/local/lib/python3.10/dist-packages (from requests>=2.19.0->datasets) (2.0.4)\n",
            "Requirement already satisfied: certifi>=2017.4.17 in /usr/local/lib/python3.10/dist-packages (from requests>=2.19.0->datasets) (2023.7.22)\n",
            "Requirement already satisfied: python-dateutil>=2.8.1 in /usr/local/lib/python3.10/dist-packages (from pandas->datasets) (2.8.2)\n",
            "Requirement already satisfied: pytz>=2020.1 in /usr/local/lib/python3.10/dist-packages (from pandas->datasets) (2023.3.post1)\n",
            "Requirement already satisfied: six>=1.5 in /usr/local/lib/python3.10/dist-packages (from python-dateutil>=2.8.1->pandas->datasets) (1.16.0)\n"
          ]
        }
      ],
      "source": [
        "!pip install datasets"
      ]
    },
    {
      "cell_type": "code",
      "execution_count": 41,
      "metadata": {
        "id": "Rh87NXsRl3dY"
      },
      "outputs": [],
      "source": [
        "from datasets import load_dataset\n",
        "\n",
        "dataset = load_dataset(\"dair-ai/emotion\")"
      ]
    },
    {
      "cell_type": "code",
      "execution_count": 42,
      "metadata": {
        "colab": {
          "base_uri": "https://localhost:8080/"
        },
        "id": "2s0h541FxIgc",
        "outputId": "ebe56a6e-eb1f-4a2c-e5f1-c2d10694628d"
      },
      "outputs": [
        {
          "output_type": "execute_result",
          "data": {
            "text/plain": [
              "DatasetDict({\n",
              "    train: Dataset({\n",
              "        features: ['text', 'label'],\n",
              "        num_rows: 16000\n",
              "    })\n",
              "    validation: Dataset({\n",
              "        features: ['text', 'label'],\n",
              "        num_rows: 2000\n",
              "    })\n",
              "    test: Dataset({\n",
              "        features: ['text', 'label'],\n",
              "        num_rows: 2000\n",
              "    })\n",
              "})"
            ]
          },
          "metadata": {},
          "execution_count": 42
        }
      ],
      "source": [
        "dataset"
      ]
    },
    {
      "cell_type": "code",
      "execution_count": 43,
      "metadata": {
        "id": "oDYXMfZy5eiP"
      },
      "outputs": [],
      "source": [
        "train = dataset['train']\n",
        "val = dataset['validation']\n",
        "test = dataset['test']"
      ]
    },
    {
      "cell_type": "code",
      "execution_count": 44,
      "metadata": {
        "id": "jeq3-vSB5eiR"
      },
      "outputs": [],
      "source": [
        "def get_tweet(data):\n",
        "  tweets = [x['text'] for x in data]\n",
        "  lables = [x['label'] for x in data]\n",
        "  return tweets,lables"
      ]
    },
    {
      "cell_type": "code",
      "execution_count": 45,
      "metadata": {
        "colab": {
          "base_uri": "https://localhost:8080/"
        },
        "id": "bHD3Tk0J5eiU",
        "outputId": "c81788bd-849a-4d8b-9aab-d13d74a265b2"
      },
      "outputs": [
        {
          "output_type": "execute_result",
          "data": {
            "text/plain": [
              "('i didnt feel humiliated', 0)"
            ]
          },
          "metadata": {},
          "execution_count": 45
        }
      ],
      "source": [
        "tweets,lables = get_tweet(train)\n",
        "tweets[0],lables[0]"
      ]
    },
    {
      "cell_type": "markdown",
      "metadata": {
        "id": "gcAflLv6xIgp"
      },
      "source": [
        "## Task 4: Tokenizer\n",
        "\n",
        "1. Tokenizing the tweets"
      ]
    },
    {
      "cell_type": "code",
      "execution_count": 46,
      "metadata": {
        "id": "qfX5-ResxIgq"
      },
      "outputs": [],
      "source": [
        "from tensorflow.keras.preprocessing.text import Tokenizer"
      ]
    },
    {
      "cell_type": "code",
      "execution_count": 47,
      "metadata": {
        "id": "cckUvwBo5eif"
      },
      "outputs": [],
      "source": [
        "tokenizer =Tokenizer(num_words=10000,oov_token='<ukn>')\n",
        "tokenizer.fit_on_texts(tweets)"
      ]
    },
    {
      "cell_type": "markdown",
      "metadata": {
        "id": "i3Bqm7b2xIgu"
      },
      "source": [
        "## Task 5: Padding and Truncating Sequences\n",
        "\n",
        "1. Checking length of the tweets\n",
        "2. Creating padded sequences"
      ]
    },
    {
      "cell_type": "code",
      "execution_count": 48,
      "metadata": {
        "colab": {
          "base_uri": "https://localhost:8080/",
          "height": 430
        },
        "id": "mLvf_WFZxIgu",
        "outputId": "b44742be-d75c-4a3b-b772-a4622d6074f8"
      },
      "outputs": [
        {
          "output_type": "display_data",
          "data": {
            "text/plain": [
              "<Figure size 640x480 with 1 Axes>"
            ],
            "image/png": "[encoded data removed]"
          },
          "metadata": {}
        }
      ],
      "source": [
        "lengths= [len(t.split(' ')) for t in tweets]\n",
        "plt.hist(lengths,bins=len(set(lengths)))\n",
        "plt.show()"
      ]
    },
    {
      "cell_type": "code",
      "execution_count": 49,
      "metadata": {
        "id": "EOi5lIE3xIgx"
      },
      "outputs": [],
      "source": [
        "maxlen=50\n",
        "from tensorflow.keras.preprocessing.sequence import pad_sequences"
      ]
    },
    {
      "cell_type": "code",
      "execution_count": 50,
      "metadata": {
        "id": "Q9J_Iemf5eiq"
      },
      "outputs": [],
      "source": [
        "def get_sequences(tokenizer,tweets):\n",
        "  sequences = tokenizer.texts_to_sequences(tweets)\n",
        "  padded= pad_sequences(sequences, truncating='post',padding='post',maxlen=maxlen)\n",
        "  return padded"
      ]
    },
    {
      "cell_type": "code",
      "execution_count": 51,
      "metadata": {
        "id": "eglH77ky5ei0"
      },
      "outputs": [],
      "source": [
        "padded_train_sequence=get_sequences(tokenizer,tweets)"
      ]
    },
    {
      "cell_type": "code",
      "execution_count": 52,
      "metadata": {
        "colab": {
          "base_uri": "https://localhost:8080/"
        },
        "id": "iGR473HA5ei7",
        "outputId": "09c0f905-3173-43ca-9bae-f4ceb6ee45ba"
      },
      "outputs": [
        {
          "output_type": "execute_result",
          "data": {
            "text/plain": [
              "array([  2, 139,   3, 679,   0,   0,   0,   0,   0,   0,   0,   0,   0,\n",
              "         0,   0,   0,   0,   0,   0,   0,   0,   0,   0,   0,   0,   0,\n",
              "         0,   0,   0,   0,   0,   0,   0,   0,   0,   0,   0,   0,   0,\n",
              "         0,   0,   0,   0,   0,   0,   0,   0,   0,   0,   0], dtype=int32)"
            ]
          },
          "metadata": {},
          "execution_count": 52
        }
      ],
      "source": [
        "padded_train_sequence[0]"
      ]
    },
    {
      "cell_type": "markdown",
      "metadata": {
        "id": "BURhOX_KxIg8"
      },
      "source": [
        "## Task 6: Preparing the Labels\n",
        "\n",
        "1. Creating classes to index and index to classes dictionaries\n",
        "2. Converting text labels to numeric labels"
      ]
    },
    {
      "cell_type": "code",
      "execution_count": 103,
      "metadata": {
        "colab": {
          "base_uri": "https://localhost:8080/"
        },
        "id": "SufT2bpD5ejE",
        "outputId": "8fa6cba9-16d2-4fb2-b2e6-998203eed49b"
      },
      "outputs": [
        {
          "output_type": "stream",
          "name": "stdout",
          "text": [
            "{0, 1, 2, 3, 4, 5}\n"
          ]
        }
      ],
      "source": [
        "classes=set(lables)\n",
        "print(classes)"
      ]
    },
    {
      "cell_type": "code",
      "execution_count": 54,
      "metadata": {
        "colab": {
          "base_uri": "https://localhost:8080/",
          "height": 430
        },
        "id": "rpwzL88I7YSm",
        "outputId": "746a65c5-10e0-4798-dec4-9b286f29ce7c"
      },
      "outputs": [
        {
          "output_type": "display_data",
          "data": {
            "text/plain": [
              "<Figure size 640x480 with 1 Axes>"
            ],
            "image/png": "[encoded data removed]"
          },
          "metadata": {}
        }
      ],
      "source": [
        "plt.hist(lables,bins=11)\n",
        "plt.show()"
      ]
    },
    {
      "cell_type": "code",
      "execution_count": 83,
      "metadata": {
        "id": "dNLF6rXL5ejN"
      },
      "outputs": [],
      "source": [
        "class_to_index={'sadness':0,'joy':1,'love':2,'anger':3,'fear':4,'surprise':5}\n",
        "index_to_class=dict((k,v) for v,k in class_to_index.items())"
      ]
    },
    {
      "cell_type": "code",
      "execution_count": 84,
      "metadata": {
        "id": "NtqM2XNFAFQi",
        "colab": {
          "base_uri": "https://localhost:8080/"
        },
        "outputId": "75e76e42-8029-4499-80aa-ef94f4ce329f"
      },
      "outputs": [
        {
          "output_type": "execute_result",
          "data": {
            "text/plain": [
              "{'sadness': 0, 'joy': 1, 'love': 2, 'anger': 3, 'fear': 4, 'surprise': 5}"
            ]
          },
          "metadata": {},
          "execution_count": 84
        }
      ],
      "source": [
        "class_to_index\n"
      ]
    },
    {
      "cell_type": "code",
      "execution_count": 86,
      "metadata": {
        "id": "XfIXoLrM_9iK",
        "colab": {
          "base_uri": "https://localhost:8080/"
        },
        "outputId": "f5139d0d-5e55-412d-c9ca-17f66f60cd97"
      },
      "outputs": [
        {
          "output_type": "execute_result",
          "data": {
            "text/plain": [
              "{0: 'sadness', 1: 'joy', 2: 'love', 3: 'anger', 4: 'fear', 5: 'surprise'}"
            ]
          },
          "metadata": {},
          "execution_count": 86
        }
      ],
      "source": [
        "index_to_class"
      ]
    },
    {
      "cell_type": "code",
      "execution_count": 58,
      "metadata": {
        "id": "iWWP03AEWVSP"
      },
      "outputs": [],
      "source": [
        "names_to_ids = lambda lables:np.array([class_to_index.get(x) for x in lables])"
      ]
    },
    {
      "cell_type": "code",
      "execution_count": 59,
      "metadata": {
        "id": "v15KnrNC5ejW"
      },
      "outputs": [],
      "source": [
        "train_lables=np.array(lables)"
      ]
    },
    {
      "cell_type": "markdown",
      "metadata": {
        "id": "c-v0Mnh8xIhP"
      },
      "source": [
        "## Task 7: Creating the Model\n",
        "\n",
        "1. Creating the model\n",
        "2. Compiling the model"
      ]
    },
    {
      "cell_type": "code",
      "execution_count": 60,
      "metadata": {
        "id": "OpewXxPQ5eji"
      },
      "outputs": [],
      "source": [
        "model=tf.keras.Sequential([\n",
        "      tf.keras.layers.Embedding(10000,16,input_length=maxlen),\n",
        "      tf.keras.layers.Bidirectional(tf.keras.layers.LSTM(20,return_sequences=True)),\n",
        "      tf.keras.layers.Bidirectional(tf.keras.layers.LSTM(20)),\n",
        "      tf.keras.layers.Dense(6, activation='softmax')\n",
        "])\n",
        "\n",
        "model.compile(\n",
        "    loss='sparse_categorical_crossentropy',\n",
        "    optimizer='adam',\n",
        "    metrics=['accuracy']\n",
        ")"
      ]
    },
    {
      "cell_type": "code",
      "execution_count": 61,
      "metadata": {
        "colab": {
          "base_uri": "https://localhost:8080/"
        },
        "id": "_2JQ618Ey_7r",
        "outputId": "2836a40d-ce1a-4d58-dc5a-d07ebbe1c665"
      },
      "outputs": [
        {
          "output_type": "stream",
          "name": "stdout",
          "text": [
            "Model: \"sequential_1\"\n",
            "_________________________________________________________________\n",
            " Layer (type)                Output Shape              Param #   \n",
            "=================================================================\n",
            " embedding_1 (Embedding)     (None, 50, 16)            160000    \n",
            "                                                                 \n",
            " bidirectional_2 (Bidirecti  (None, 50, 40)            5920      \n",
            " onal)                                                           \n",
            "                                                                 \n",
            " bidirectional_3 (Bidirecti  (None, 40)                9760      \n",
            " onal)                                                           \n",
            "                                                                 \n",
            " dense_1 (Dense)             (None, 6)                 246       \n",
            "                                                                 \n",
            "=================================================================\n",
            "Total params: 175926 (687.21 KB)\n",
            "Trainable params: 175926 (687.21 KB)\n",
            "Non-trainable params: 0 (0.00 Byte)\n",
            "_________________________________________________________________\n"
          ]
        }
      ],
      "source": [
        "model.summary()"
      ]
    },
    {
      "cell_type": "markdown",
      "metadata": {
        "id": "1HST_CHjxIhR"
      },
      "source": [
        "## Task 8: Training the Model\n",
        "\n",
        "1. Preparing a validation set\n",
        "2. Training the model"
      ]
    },
    {
      "cell_type": "code",
      "execution_count": 62,
      "metadata": {
        "id": "Ff7F3hCK5ejm"
      },
      "outputs": [],
      "source": [
        "val_tweets,val_lables = get_tweet(val)\n",
        "val_seq = get_sequences(tokenizer,val_tweets)\n",
        "val_lables=np.array(val_lables)"
      ]
    },
    {
      "cell_type": "code",
      "execution_count": 63,
      "metadata": {
        "colab": {
          "base_uri": "https://localhost:8080/"
        },
        "id": "hlMKaZ3H5ejr",
        "outputId": "83da6e69-f435-4530-8047-23138bebd152"
      },
      "outputs": [
        {
          "output_type": "execute_result",
          "data": {
            "text/plain": [
              "('im feeling quite sad and sorry for myself but ill snap out of it soon', 0)"
            ]
          },
          "metadata": {},
          "execution_count": 63
        }
      ],
      "source": [
        "val_tweets[0],val_lables[0]"
      ]
    },
    {
      "cell_type": "code",
      "execution_count": 64,
      "metadata": {
        "colab": {
          "base_uri": "https://localhost:8080/"
        },
        "id": "bzBqnWQ-5ejw",
        "outputId": "73af1ba5-89d0-4b97-85d5-84bf37ffeffc"
      },
      "outputs": [
        {
          "output_type": "stream",
          "name": "stdout",
          "text": [
            "Epoch 1/20\n",
            "500/500 [==============================] - 46s 72ms/step - loss: 1.3094 - accuracy: 0.4664 - val_loss: 0.8320 - val_accuracy: 0.6810\n",
            "Epoch 2/20\n",
            "500/500 [==============================] - 8s 16ms/step - loss: 0.6176 - accuracy: 0.7536 - val_loss: 0.6755 - val_accuracy: 0.7590\n",
            "Epoch 3/20\n",
            "500/500 [==============================] - 9s 18ms/step - loss: 0.4075 - accuracy: 0.8509 - val_loss: 0.5071 - val_accuracy: 0.8520\n",
            "Epoch 4/20\n",
            "500/500 [==============================] - 8s 16ms/step - loss: 0.2603 - accuracy: 0.9164 - val_loss: 0.4871 - val_accuracy: 0.8550\n",
            "Epoch 5/20\n",
            "500/500 [==============================] - 7s 15ms/step - loss: 0.1869 - accuracy: 0.9414 - val_loss: 0.3757 - val_accuracy: 0.8830\n",
            "Epoch 6/20\n",
            "500/500 [==============================] - 8s 15ms/step - loss: 0.1376 - accuracy: 0.9581 - val_loss: 0.4576 - val_accuracy: 0.8705\n",
            "Epoch 7/20\n",
            "500/500 [==============================] - 7s 13ms/step - loss: 0.1144 - accuracy: 0.9656 - val_loss: 0.4085 - val_accuracy: 0.8865\n",
            "Epoch 8/20\n",
            "500/500 [==============================] - 8s 17ms/step - loss: 0.0985 - accuracy: 0.9694 - val_loss: 0.3990 - val_accuracy: 0.8890\n",
            "Epoch 9/20\n",
            "500/500 [==============================] - 6s 13ms/step - loss: 0.0858 - accuracy: 0.9736 - val_loss: 0.3909 - val_accuracy: 0.8870\n",
            "Epoch 10/20\n",
            "500/500 [==============================] - 8s 16ms/step - loss: 0.0721 - accuracy: 0.9782 - val_loss: 0.4309 - val_accuracy: 0.8920\n",
            "Epoch 11/20\n",
            "500/500 [==============================] - 7s 13ms/step - loss: 0.0810 - accuracy: 0.9739 - val_loss: 0.3959 - val_accuracy: 0.8960\n",
            "Epoch 12/20\n",
            "500/500 [==============================] - 7s 15ms/step - loss: 0.0504 - accuracy: 0.9840 - val_loss: 0.4155 - val_accuracy: 0.8975\n",
            "Epoch 13/20\n",
            "500/500 [==============================] - 6s 13ms/step - loss: 0.0485 - accuracy: 0.9845 - val_loss: 0.5611 - val_accuracy: 0.8620\n",
            "Epoch 14/20\n",
            "500/500 [==============================] - 8s 15ms/step - loss: 0.0626 - accuracy: 0.9800 - val_loss: 0.4493 - val_accuracy: 0.8835\n"
          ]
        }
      ],
      "source": [
        "h= model.fit(\n",
        "    padded_train_sequence,train_lables,\n",
        "    validation_data = (val_seq,val_lables),\n",
        "    epochs=20,\n",
        "    callbacks=[\n",
        "        tf.keras.callbacks.EarlyStopping(monitor='val_accuracy',patience=2)\n",
        "        #stops epoch if no improvement in 2 consecutive epochs\n",
        "    ]\n",
        ")"
      ]
    },
    {
      "cell_type": "markdown",
      "metadata": {
        "id": "EdsJyMTLxIhX"
      },
      "source": [
        "## Task 9: Evaluating the Model\n",
        "\n",
        "1. Visualizing training history\n",
        "2. Prepraring a test set\n",
        "3. A look at individual predictions on the test set\n",
        "4. A look at all predictions on the test set"
      ]
    },
    {
      "cell_type": "code",
      "execution_count": 65,
      "metadata": {
        "colab": {
          "base_uri": "https://localhost:8080/",
          "height": 443
        },
        "id": "ENCfvXeLxIhX",
        "outputId": "f3f42800-0835-4045-a43f-1bbfa73910cf"
      },
      "outputs": [
        {
          "output_type": "display_data",
          "data": {
            "text/plain": [
              "<Figure size 1500x500 with 2 Axes>"
            ],
            "image/png": "[encoded data removed]"
          },
          "metadata": {}
        }
      ],
      "source": [
        "show_history(h)"
      ]
    },
    {
      "cell_type": "code",
      "execution_count": 66,
      "metadata": {
        "id": "kWuzoz8uxIha"
      },
      "outputs": [],
      "source": [
        "test_tweets,test_lables = get_tweet(test)\n",
        "test_seq= get_sequences(tokenizer,test_tweets)\n",
        "test_lables= np.array(test_lables)"
      ]
    },
    {
      "cell_type": "code",
      "execution_count": 67,
      "metadata": {
        "colab": {
          "base_uri": "https://localhost:8080/"
        },
        "id": "7vRVJ_2SxIhc",
        "outputId": "2a73f25a-0a63-43ce-e6f3-31099e2f9e9c"
      },
      "outputs": [
        {
          "output_type": "stream",
          "name": "stdout",
          "text": [
            "63/63 [==============================] - 1s 8ms/step - loss: 0.4452 - accuracy: 0.8800\n"
          ]
        }
      ],
      "source": [
        "_ = model.evaluate(test_seq,test_lables)"
      ]
    },
    {
      "cell_type": "code",
      "execution_count": 73,
      "metadata": {
        "colab": {
          "base_uri": "https://localhost:8080/"
        },
        "id": "rh638vHG5ej6",
        "outputId": "eca70d3b-4799-43d0-dc32-58df5dcc0a9b"
      },
      "outputs": [
        {
          "output_type": "stream",
          "name": "stdout",
          "text": [
            "sentence =  i usually like sam but sometimes he gets downright whiny and i ll admit that all the mistakes he made due to sibling rivalry and pride that eventually led to the end of season kind of made me feel less tragic about the whole thing\n",
            "Emotion =  sadness\n",
            "1/1 [==============================] - 0s 24ms/step\n",
            "Predicted class =  sadness\n"
          ]
        }
      ],
      "source": [
        "i=random.randint(0,len(test_lables)-1)\n",
        "\n",
        "print('sentence = ',test_tweets[i])\n",
        "print('Emotion = ',index_to_class[test_lables[i]])\n",
        "\n",
        "p=model.predict(np.expand_dims(test_seq[i],axis=0))[0]\n",
        "pred_class= index_to_class[np.argmax(p).astype('uint8')]\n",
        "\n",
        "print('Predicted class = ',pred_class)"
      ]
    },
    {
      "cell_type": "code",
      "source": [
        "predict_x=model.predict(test_seq)\n",
        "preds=np.argmax(predict_x,axis=1)"
      ],
      "metadata": {
        "colab": {
          "base_uri": "https://localhost:8080/"
        },
        "id": "lE_UOq6zKzO5",
        "outputId": "850c5482-39b5-402f-949f-ddace0d6371f"
      },
      "execution_count": 112,
      "outputs": [
        {
          "output_type": "stream",
          "name": "stdout",
          "text": [
            "63/63 [==============================] - 0s 7ms/step\n"
          ]
        }
      ]
    },
    {
      "cell_type": "code",
      "source": [
        "classes= list(class_to_index.keys())"
      ],
      "metadata": {
        "id": "47z6k5JAHDzs"
      },
      "execution_count": 117,
      "outputs": []
    },
    {
      "cell_type": "code",
      "execution_count": 118,
      "metadata": {
        "colab": {
          "base_uri": "https://localhost:8080/",
          "height": 661
        },
        "id": "HtaSWO59krqG",
        "outputId": "06b27624-6821-4438-c41c-14599593aba3"
      },
      "outputs": [
        {
          "output_type": "display_data",
          "data": {
            "text/plain": [
              "<Figure size 800x800 with 2 Axes>"
            ],
            "image/png": "[encoded data removed]"
          },
          "metadata": {}
        }
      ],
      "source": [
        "show_confusion_matrix(test_lables, preds,list(classes))"
      ]
    }
  ],
  "metadata": {
    "accelerator": "GPU",
    "colab": {
      "provenance": []
    },
    "kernelspec": {
      "display_name": "Python 3",
      "language": "python",
      "name": "python3"
    },
    "language_info": {
      "codemirror_mode": {
        "name": "ipython",
        "version": 3
      },
      "file_extension": ".py",
      "mimetype": "text/x-python",
      "name": "python",
      "nbconvert_exporter": "python",
      "pygments_lexer": "ipython3",
      "version": "3.8.3"
    }
  },
  "nbformat": 4,
  "nbformat_minor": 0
}